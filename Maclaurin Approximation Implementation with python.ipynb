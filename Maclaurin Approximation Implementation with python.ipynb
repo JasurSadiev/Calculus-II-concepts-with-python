{
  "nbformat": 4,
  "nbformat_minor": 0,
  "metadata": {
    "colab": {
      "name": "independent_work_Jasurbek_Sadiev",
      "provenance": []
    },
    "kernelspec": {
      "name": "python3",
      "display_name": "Python 3"
    },
    "language_info": {
      "name": "python"
    }
  },
  "cells": [
    {
      "cell_type": "markdown",
      "source": [
        "Implement Maclaurin Polynomial. Input: f(x), n. Output: P_n(x)"
      ],
      "metadata": {
        "id": "l5fpCnmCf7CB"
      }
    },
    {
      "cell_type": "code",
      "source": [
        "%matplotlib inline\n",
        "from scipy.misc import derivative\n",
        "import sympy as sp\n",
        "from sympy import var, sympify\n",
        "from matplotlib import pyplot\n",
        "import numpy as np\n",
        "import math\n",
        "from sympy.core.symbol import Symbol\n",
        "\n",
        "from sympy.utilities.lambdify import lambdify\n",
        "from ipywidgets.widgets.widget_int import IntSlider"
      ],
      "metadata": {
        "id": "F1wnKwr6eOgG"
      },
      "execution_count": 16,
      "outputs": []
    },
    {
      "cell_type": "code",
      "execution_count": 14,
      "metadata": {
        "colab": {
          "base_uri": "https://localhost:8080/"
        },
        "id": "1x0yh7geeLms",
        "outputId": "3e9b572b-2522-4e17-b01b-94fff8cf5ad4"
      },
      "outputs": [
        {
          "output_type": "stream",
          "name": "stdout",
          "text": [
            "Enter your function: tan(x)\n",
            "Number of terms: 4\n",
            "approximation point: 6\n",
            "Approximately: 0\n",
            "Equation: 3*(x)^1-2*(x)^3\n"
          ]
        }
      ],
      "source": [
        "#Using x as symbol\n",
        "x = Symbol('x') \n",
        "\n",
        "input_function = input(\"Enter your function: \")  \n",
        "\n",
        "term = int(input(\"Number of terms: \"))\n",
        "\n",
        "approximation_at = int(input(\"approximation point: \"))\n",
        "\n",
        "\n",
        "\n",
        "input_function = sympify(input_function)\n",
        "\n",
        "function = lambdify(x, input_function)\n",
        "\n",
        "def maclaurin_polynomial(function, term, approximation_at):\n",
        "  d_dx = term*2\n",
        "  coefficients = []\n",
        "  P_n = ''\n",
        "\n",
        "#Checking if the order is odd, else making it even\n",
        "  if d_dx % 2 == 0:\n",
        "    d_dx += 1\n",
        "\n",
        "  for i in range(0, term + 1):\n",
        "    coefficients.append(round(derivative(function, 0, n=i, order=d_dx) / math.factorial(i)))\n",
        "\n",
        "  for i in range(term + 1):\n",
        "    if coefficients[i] != 0:\n",
        "      P_n += str(coefficients[i]) + (\"*(x)^{}\".format(i) if i > 0 else \"\") + \" + \"\n",
        "      if P_n.endswith(\" + \"):\n",
        "        P_n = P_n[:-3]\n",
        "      else:\n",
        "        P_n\n",
        "  approximation_sum = 0\n",
        "\n",
        "  for i in range(len(coefficients)):\n",
        "    approximation_sum += coefficients[i] * ((approximation_sum)**i)\n",
        "  print(\"Approximately: \" + str(approximation_sum) + \"\\n\" +\n",
        "         \"Equation: \" + P_n)\n",
        "maclaurin_polynomial(function, term, approximation_at)"
      ]
    },
    {
      "cell_type": "markdown",
      "source": [
        "Implement Taylor Polynomial. Input: f(x), c, n. Output: P_n(x)"
      ],
      "metadata": {
        "id": "LVoWqSO0iHxe"
      }
    },
    {
      "cell_type": "code",
      "source": [
        "t, a = sp.symbols('t a')\n",
        "\n",
        "def taylor_terms(func, order, point, derivatives = None):\n",
        "  if derivatives is None:\n",
        "    derivatives = [func.subs({t: a})]\n",
        "\n",
        "  if len(derivatives) > order:\n",
        "    return derivatives, [derivatives[i].subs({a: point})/ math.factorial(i)*(t-point)**i for i in range(len(derivatives))]\n",
        "\n",
        "  derivative = func.diff(t)\n",
        "\n",
        "  derivatives.append(derivative.subs({t: a}))\n",
        "\n",
        "  return taylor_terms(derivative, order, point, derivatives)\n",
        "\n",
        "\n",
        "\n"
      ],
      "metadata": {
        "colab": {
          "base_uri": "https://localhost:8080/"
        },
        "id": "hRpgHxoiiITl",
        "outputId": "f7f3268c-adf6-42a0-d6df-0eb8852bd5de"
      },
      "execution_count": 21,
      "outputs": [
        {
          "output_type": "stream",
          "name": "stdout",
          "text": [
            "([x**2, 0, 0, 0, 0, 0, 0], [x**2, 0, 0, 0, 0, 0, 0])\n"
          ]
        }
      ]
    }
  ]
}